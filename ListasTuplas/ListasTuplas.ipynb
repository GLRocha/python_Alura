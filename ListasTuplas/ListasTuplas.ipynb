{
 "cells": [
  {
   "cell_type": "code",
   "execution_count": 4,
   "id": "ad4bbe2d-8915-47fa-ba1e-b949563a3a45",
   "metadata": {},
   "outputs": [
    {
     "name": "stdout",
     "output_type": "stream",
     "text": [
      "[32, 44, 56, 78]\n"
     ]
    }
   ],
   "source": [
    "lista_idades = [32, 44, 56, 78]\n",
    "print(lista_idades)"
   ]
  },
  {
   "cell_type": "code",
   "execution_count": 5,
   "id": "0f9befdc-187e-42da-a762-7c4e9d06f54a",
   "metadata": {},
   "outputs": [
    {
     "data": {
      "text/plain": [
       "list"
      ]
     },
     "execution_count": 5,
     "metadata": {},
     "output_type": "execute_result"
    }
   ],
   "source": [
    "type(lista_idades)"
   ]
  },
  {
   "cell_type": "code",
   "execution_count": 10,
   "id": "a04da715-6d88-4670-9562-4fc01c8de33b",
   "metadata": {},
   "outputs": [
    {
     "data": {
      "text/plain": [
       "78"
      ]
     },
     "execution_count": 10,
     "metadata": {},
     "output_type": "execute_result"
    }
   ],
   "source": [
    "lista_idades[3]"
   ]
  },
  {
   "cell_type": "code",
   "execution_count": 13,
   "id": "cda01ba9-037a-4a2c-b512-ead74daa3b99",
   "metadata": {},
   "outputs": [
    {
     "name": "stdout",
     "output_type": "stream",
     "text": [
      "56\n",
      "44\n"
     ]
    }
   ],
   "source": [
    "print(lista_idades[2])\n",
    "print(lista_idades[1])"
   ]
  },
  {
   "cell_type": "code",
   "execution_count": 16,
   "id": "73eb5423-3599-4ad8-a006-5c5b52412961",
   "metadata": {},
   "outputs": [
    {
     "name": "stdout",
     "output_type": "stream",
     "text": [
      "32\n",
      "44\n",
      "56\n",
      "78\n"
     ]
    }
   ],
   "source": [
    "for idade in lista_idades:\n",
    "    print(idade)"
   ]
  },
  {
   "cell_type": "code",
   "execution_count": 17,
   "id": "4b0697a2-ce84-4955-abda-b2d862cf5d62",
   "metadata": {},
   "outputs": [],
   "source": [
    "lista_idades.append(27)"
   ]
  },
  {
   "cell_type": "code",
   "execution_count": 19,
   "id": "464e4de4-80bc-4953-b623-c6500b5550c8",
   "metadata": {},
   "outputs": [
    {
     "name": "stdout",
     "output_type": "stream",
     "text": [
      "[32, 44, 56, 78, 27]\n"
     ]
    }
   ],
   "source": [
    "print(lista_idades)"
   ]
  },
  {
   "cell_type": "code",
   "execution_count": 20,
   "id": "6e4fd73b-c414-4002-a8f6-a312f20001f3",
   "metadata": {},
   "outputs": [],
   "source": [
    "lista_idades.remove(56)"
   ]
  },
  {
   "cell_type": "code",
   "execution_count": 21,
   "id": "0e2586b9-e6d4-41c5-8206-732db2ef74f9",
   "metadata": {},
   "outputs": [
    {
     "name": "stdout",
     "output_type": "stream",
     "text": [
      "[32, 44, 78, 27]\n"
     ]
    }
   ],
   "source": [
    "print(lista_idades)"
   ]
  },
  {
   "cell_type": "code",
   "execution_count": 25,
   "id": "dffafec7-72d6-4730-a57d-116933e9533d",
   "metadata": {},
   "outputs": [
    {
     "data": {
      "text/plain": [
       "[32, 78, 27, 36, 44]"
      ]
     },
     "execution_count": 25,
     "metadata": {},
     "output_type": "execute_result"
    }
   ],
   "source": [
    "lista_idades.append(44)\n",
    "lista_idades.remove(44)\n",
    "lista_idades\n",
    "# sempre remove a primeira aparição do dado."
   ]
  },
  {
   "cell_type": "code",
   "execution_count": 3,
   "id": "d06fcab7-3f75-49a0-b405-500f5dd3a51f",
   "metadata": {},
   "outputs": [],
   "source": [
    "idades = [32, 78, 27, 36, 44]"
   ]
  },
  {
   "cell_type": "code",
   "execution_count": 4,
   "id": "0f0b0019-7d14-4e9e-a831-d4fe1c359f97",
   "metadata": {},
   "outputs": [
    {
     "data": {
      "text/plain": [
       "False"
      ]
     },
     "execution_count": 4,
     "metadata": {},
     "output_type": "execute_result"
    }
   ],
   "source": [
    "28 in idades"
   ]
  },
  {
   "cell_type": "code",
   "execution_count": null,
   "id": "a9a99b43-354d-4738-82a1-0772f5132638",
   "metadata": {},
   "outputs": [],
   "source": []
  }
 ],
 "metadata": {
  "kernelspec": {
   "display_name": "Python 3 (ipykernel)",
   "language": "python",
   "name": "python3"
  },
  "language_info": {
   "codemirror_mode": {
    "name": "ipython",
    "version": 3
   },
   "file_extension": ".py",
   "mimetype": "text/x-python",
   "name": "python",
   "nbconvert_exporter": "python",
   "pygments_lexer": "ipython3",
   "version": "3.10.12"
  }
 },
 "nbformat": 4,
 "nbformat_minor": 5
}
