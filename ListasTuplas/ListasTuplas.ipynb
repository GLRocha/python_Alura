{
 "cells": [
  {
   "cell_type": "code",
   "execution_count": 4,
   "id": "ad4bbe2d-8915-47fa-ba1e-b949563a3a45",
   "metadata": {},
   "outputs": [
    {
     "name": "stdout",
     "output_type": "stream",
     "text": [
      "[32, 44, 56, 78]\n"
     ]
    }
   ],
   "source": [
    "lista_idades = [32, 44, 56, 78]\n",
    "print(lista_idades)"
   ]
  },
  {
   "cell_type": "code",
   "execution_count": 5,
   "id": "0f9befdc-187e-42da-a762-7c4e9d06f54a",
   "metadata": {},
   "outputs": [
    {
     "data": {
      "text/plain": [
       "list"
      ]
     },
     "execution_count": 5,
     "metadata": {},
     "output_type": "execute_result"
    }
   ],
   "source": [
    "type(lista_idades)"
   ]
  },
  {
   "cell_type": "code",
   "execution_count": 10,
   "id": "a04da715-6d88-4670-9562-4fc01c8de33b",
   "metadata": {},
   "outputs": [
    {
     "data": {
      "text/plain": [
       "78"
      ]
     },
     "execution_count": 10,
     "metadata": {},
     "output_type": "execute_result"
    }
   ],
   "source": [
    "lista_idades[3]"
   ]
  },
  {
   "cell_type": "code",
   "execution_count": 13,
   "id": "cda01ba9-037a-4a2c-b512-ead74daa3b99",
   "metadata": {},
   "outputs": [
    {
     "name": "stdout",
     "output_type": "stream",
     "text": [
      "56\n",
      "44\n"
     ]
    }
   ],
   "source": [
    "print(lista_idades[2])\n",
    "print(lista_idades[1])"
   ]
  },
  {
   "cell_type": "code",
   "execution_count": 16,
   "id": "73eb5423-3599-4ad8-a006-5c5b52412961",
   "metadata": {},
   "outputs": [
    {
     "name": "stdout",
     "output_type": "stream",
     "text": [
      "32\n",
      "44\n",
      "56\n",
      "78\n"
     ]
    }
   ],
   "source": [
    "for idade in lista_idades:\n",
    "    print(idade)"
   ]
  },
  {
   "cell_type": "code",
   "execution_count": 17,
   "id": "4b0697a2-ce84-4955-abda-b2d862cf5d62",
   "metadata": {},
   "outputs": [],
   "source": [
    "lista_idades.append(27)"
   ]
  },
  {
   "cell_type": "code",
   "execution_count": 19,
   "id": "464e4de4-80bc-4953-b623-c6500b5550c8",
   "metadata": {},
   "outputs": [
    {
     "name": "stdout",
     "output_type": "stream",
     "text": [
      "[32, 44, 56, 78, 27]\n"
     ]
    }
   ],
   "source": [
    "print(lista_idades)"
   ]
  },
  {
   "cell_type": "code",
   "execution_count": 20,
   "id": "6e4fd73b-c414-4002-a8f6-a312f20001f3",
   "metadata": {},
   "outputs": [],
   "source": [
    "lista_idades.remove(56)"
   ]
  },
  {
   "cell_type": "code",
   "execution_count": 21,
   "id": "0e2586b9-e6d4-41c5-8206-732db2ef74f9",
   "metadata": {},
   "outputs": [
    {
     "name": "stdout",
     "output_type": "stream",
     "text": [
      "[32, 44, 78, 27]\n"
     ]
    }
   ],
   "source": [
    "print(lista_idades)"
   ]
  },
  {
   "cell_type": "code",
   "execution_count": 25,
   "id": "dffafec7-72d6-4730-a57d-116933e9533d",
   "metadata": {},
   "outputs": [
    {
     "data": {
      "text/plain": [
       "[32, 78, 27, 36, 44]"
      ]
     },
     "execution_count": 25,
     "metadata": {},
     "output_type": "execute_result"
    }
   ],
   "source": [
    "lista_idades.append(44)\n",
    "lista_idades.remove(44)\n",
    "lista_idades\n",
    "# sempre remove a primeira aparição do dado."
   ]
  },
  {
   "cell_type": "code",
   "execution_count": 3,
   "id": "d06fcab7-3f75-49a0-b405-500f5dd3a51f",
   "metadata": {},
   "outputs": [],
   "source": [
    "idades = [32, 78, 27, 36, 44]"
   ]
  },
  {
   "cell_type": "code",
   "execution_count": 4,
   "id": "0f0b0019-7d14-4e9e-a831-d4fe1c359f97",
   "metadata": {},
   "outputs": [
    {
     "data": {
      "text/plain": [
       "False"
      ]
     },
     "execution_count": 4,
     "metadata": {},
     "output_type": "execute_result"
    }
   ],
   "source": [
    "28 in idades"
   ]
  },
  {
   "cell_type": "code",
   "execution_count": 5,
   "id": "a9a99b43-354d-4738-82a1-0772f5132638",
   "metadata": {},
   "outputs": [],
   "source": [
    "idades.insert(0, 28)"
   ]
  },
  {
   "cell_type": "code",
   "execution_count": 6,
   "id": "073b7b43-edf8-46e6-9fd1-68b582598fe3",
   "metadata": {},
   "outputs": [
    {
     "data": {
      "text/plain": [
       "[28, 32, 78, 27, 36, 44]"
      ]
     },
     "execution_count": 6,
     "metadata": {},
     "output_type": "execute_result"
    }
   ],
   "source": [
    "idades"
   ]
  },
  {
   "cell_type": "code",
   "execution_count": 8,
   "id": "ee2e804a-de50-4267-bdf2-6f0e4958adea",
   "metadata": {},
   "outputs": [],
   "source": [
    "idades.append([39, 43])"
   ]
  },
  {
   "cell_type": "code",
   "execution_count": 9,
   "id": "db082f34-e2a5-461b-ae12-4542250bf2f5",
   "metadata": {},
   "outputs": [
    {
     "name": "stdout",
     "output_type": "stream",
     "text": [
      "Recebi o Elemento 28\n",
      "Recebi o Elemento 32\n",
      "Recebi o Elemento 78\n",
      "Recebi o Elemento 27\n",
      "Recebi o Elemento 36\n",
      "Recebi o Elemento 44\n",
      "Recebi o Elemento [39, 43]\n"
     ]
    }
   ],
   "source": [
    "for elemento in idades:\n",
    "    print(f\"Recebi o Elemento {elemento}\")"
   ]
  },
  {
   "cell_type": "code",
   "execution_count": 10,
   "id": "9e8da135-b810-4bec-b936-a5ec4d3d3919",
   "metadata": {},
   "outputs": [],
   "source": [
    "idades = [32, 78, 27, 36, 44]"
   ]
  },
  {
   "cell_type": "code",
   "execution_count": 11,
   "id": "42d33cec-532d-42ad-a29e-275944728555",
   "metadata": {},
   "outputs": [],
   "source": [
    "idades.extend([18, 72])"
   ]
  },
  {
   "cell_type": "code",
   "execution_count": 12,
   "id": "39ba1323-0bc7-4b0c-b389-8f0225e06697",
   "metadata": {},
   "outputs": [
    {
     "data": {
      "text/plain": [
       "[32, 78, 27, 36, 44, 18, 72]"
      ]
     },
     "execution_count": 12,
     "metadata": {},
     "output_type": "execute_result"
    }
   ],
   "source": [
    "idades"
   ]
  },
  {
   "cell_type": "code",
   "execution_count": 1,
   "id": "45286ab7-b201-48fd-b410-2bf525f8af1a",
   "metadata": {},
   "outputs": [
    {
     "ename": "AttributeError",
     "evalue": "'builtin_function_or_method' object has no attribute 'execute'",
     "output_type": "error",
     "traceback": [
      "\u001b[1;31m---------------------------------------------------------------------------\u001b[0m",
      "\u001b[1;31mAttributeError\u001b[0m                            Traceback (most recent call last)",
      "Cell \u001b[1;32mIn[1], line 6\u001b[0m\n\u001b[0;32m      3\u001b[0m conn \u001b[38;5;241m=\u001b[39m sqlite3\u001b[38;5;241m.\u001b[39mconnect(\u001b[38;5;124m'\u001b[39m\u001b[38;5;124mexemplo.db\u001b[39m\u001b[38;5;124m'\u001b[39m)\n\u001b[0;32m      4\u001b[0m cursor \u001b[38;5;241m=\u001b[39m conn\u001b[38;5;241m.\u001b[39mcursor\n\u001b[1;32m----> 6\u001b[0m \u001b[43mcursor\u001b[49m\u001b[38;5;241;43m.\u001b[39;49m\u001b[43mexecute\u001b[49m(\u001b[38;5;124m'''\u001b[39m\u001b[38;5;124mCREATE TABLE IF NOT EXISTS usuarios (\u001b[39m\n\u001b[0;32m      7\u001b[0m \u001b[38;5;124m                    id INTEGER PRIMARY KEY,\u001b[39m\n\u001b[0;32m      8\u001b[0m \u001b[38;5;124m                    nome TEXT NOT NULL,\u001b[39m\n\u001b[0;32m      9\u001b[0m \u001b[38;5;124m                    email TEXT NOT NULL\u001b[39m\n\u001b[0;32m     10\u001b[0m \u001b[38;5;124m                )\u001b[39m\u001b[38;5;124m'''\u001b[39m)\n\u001b[0;32m     12\u001b[0m conn\u001b[38;5;241m.\u001b[39mcommit()\n\u001b[0;32m     14\u001b[0m \u001b[38;5;28;01mdef\u001b[39;00m \u001b[38;5;21mcriar_usuario\u001b[39m(nome, email):\n",
      "\u001b[1;31mAttributeError\u001b[0m: 'builtin_function_or_method' object has no attribute 'execute'"
     ]
    }
   ],
   "source": [
    "import sqlite3\n",
    "\n",
    "conn = sqlite3.connect('exemplo.db')\n",
    "cursor = conn.cursor\n",
    "\n",
    "cursor.execute('''CREATE TABLE IF NOT EXISTS usuarios (\n",
    "                    id INTEGER PRIMARY KEY,\n",
    "                    nome TEXT NOT NULL,\n",
    "                    email TEXT NOT NULL\n",
    "                )''')\n",
    "\n",
    "conn.commit()\n",
    "\n",
    "def criar_usuario(nome, email):\n",
    "    cursor.execute('''INSERT INTO usuarios (nome, email) VALUES (?,?)''', (nome, email))\n",
    "    conn.commit()\n",
    "    \n"
   ]
  }
 ],
 "metadata": {
  "kernelspec": {
   "display_name": "Python 3 (ipykernel)",
   "language": "python",
   "name": "python3"
  },
  "language_info": {
   "codemirror_mode": {
    "name": "ipython",
    "version": 3
   },
   "file_extension": ".py",
   "mimetype": "text/x-python",
   "name": "python",
   "nbconvert_exporter": "python",
   "pygments_lexer": "ipython3",
   "version": "3.12.3"
  }
 },
 "nbformat": 4,
 "nbformat_minor": 5
}
